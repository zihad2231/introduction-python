{
 "cells": [
  {
   "cell_type": "markdown",
   "metadata": {},
   "source": [
    "Introduction of python"
   ]
  },
  {
   "cell_type": "code",
   "execution_count": 17,
   "metadata": {},
   "outputs": [
    {
     "name": "stdout",
     "output_type": "stream",
     "text": [
      "[1, 2, 3, 4, 'alif', [1, 3, 4], 20]\n",
      "[1, 2, 3, 4, 'alif', [1, 3, 4], 20, 10]\n",
      "[1, 2, 3, 'bye', 4, 'alif', [1, 3, 4], 20, 10]\n"
     ]
    }
   ],
   "source": [
    "#basic of python\n",
    "# types,slicing,truthiness,f-string\n",
    "x=10 #int\n",
    "y=13.36 #float\n",
    "z=\"hello\" #string\n",
    "t=True #boolean\n",
    "lst=[1,2,3,4,'alif',[1,3,4],10*2]  #list\n",
    "tup=(1,2,3,['arif',3.5,4*2],5) #tuple\n",
    "dic={'a':1,'b':3,'c':4}  #dictionary\n",
    "st={1,2,3,\"abar\"}  # set\n",
    "print(lst)\n",
    "#now we add 10 into list\n",
    "lst.append(10)\n",
    "print(lst)\n",
    "#now we add \"bye\" in  index 3\n",
    "lst.insert(3,\"bye\")\n",
    "print(lst)\n"
   ]
  },
  {
   "cell_type": "code",
   "execution_count": 18,
   "metadata": {},
   "outputs": [
    {
     "name": "stdout",
     "output_type": "stream",
     "text": [
      "<class 'int'> <class 'float'> <class 'str'> <class 'bool'> <class 'list'> <class 'tuple'> <class 'dict'> <class 'set'>\n"
     ]
    }
   ],
   "source": [
    "print(type(x),type(y),type(z),type(t),type(lst),type(tup),type(dic),type(st))"
   ]
  },
  {
   "cell_type": "code",
   "execution_count": 20,
   "metadata": {},
   "outputs": [
    {
     "name": "stdout",
     "output_type": "stream",
     "text": [
      "[20, 30, 40]\n",
      "[10, 30, 50, 70]\n",
      "[60, 70, 80]\n",
      "[80, 70, 60, 50, 40, 30, 20, 10]\n"
     ]
    }
   ],
   "source": [
    "#slicing\n",
    "num=[10,20,30,40,50,60,70,80]\n",
    "print(num[1:4])\n",
    "print(num[::2])\n",
    "print(num[-3:])\n",
    "print(num[::-1])"
   ]
  },
  {
   "cell_type": "code",
   "execution_count": 28,
   "metadata": {},
   "outputs": [
    {
     "name": "stdout",
     "output_type": "stream",
     "text": [
      "0 ->Fslsy\n",
      "1 -> Truthy\n",
      "'' ->Fslsy\n",
      "'text' -> Truthy\n",
      "[] ->Fslsy\n",
      "[1] -> Truthy\n",
      "{} ->Fslsy\n",
      "{'k': 1} -> Truthy\n",
      "None ->Fslsy\n",
      "Zihad Hasan\n"
     ]
    }
   ],
   "source": [
    "#truthiness\n",
    "sample=[0,1,\"\",\"text\",[],[1],{},{'k':1},None]\n",
    "for i in sample:\n",
    " if i:\n",
    "    print(repr(i),\"-> Truthy\")\n",
    " else:\n",
    "   print(repr(i),\"->Fslsy\")\n",
    "#f-string\n",
    "first_name=\"Zihad\"\n",
    "last_name=\"Hasan\"\n",
    "score=90\n",
    "full_name=f\"{first_name} {last_name}\"\n",
    "print(full_name)\n",
    "\n",
    "    \n",
    "    "
   ]
  },
  {
   "cell_type": "code",
   "execution_count": 41,
   "metadata": {},
   "outputs": [
    {
     "name": "stdout",
     "output_type": "stream",
     "text": [
      "Zihad Hasan\n"
     ]
    }
   ],
   "source": [
    "data={ \"user\":{\n",
    "    \"name\":{\n",
    "        \"first_name\":\"Zihad\",\n",
    "        \"last_name\":\"Hasan\"},\n",
    "    \"ID\":10,\n",
    "    \"contact\":{ \"email\":[\"zihad@gmail.com\",\"hasan@gmail.com\"],\n",
    "               \"phone\":['013205555','017165552']},\n",
    "},\n",
    "\"item\":[{\n",
    "\n",
    "    \"name\":\"Laptop\",\"price\":1222},\n",
    "        {\"name\":\"keyboard\",\"price\":45}]}\n",
    "\n",
    "Name=f\"{data[\"user\"][\"name\"][\"first_name\"]} {data[\"user\"][\"name\"][\"last_name\"]}\"\n",
    "print(Name)\n"
   ]
  },
  {
   "cell_type": "code",
   "execution_count": 43,
   "metadata": {},
   "outputs": [
    {
     "name": "stdout",
     "output_type": "stream",
     "text": [
      "01354354\n"
     ]
    }
   ],
   "source": [
    "phone_num='01354354'\n",
    "print(phone_num)"
   ]
  },
  {
   "cell_type": "code",
   "execution_count": 45,
   "metadata": {},
   "outputs": [
    {
     "name": "stdout",
     "output_type": "stream",
     "text": [
      "Enter Your First Name Zihad\n",
      "Enter Your Last Name Hasan\n",
      "enter your age 23\n"
     ]
    },
    {
     "name": "stdout",
     "output_type": "stream",
     "text": [
      "Thank you  Zihad Hasan  Your age is: 23\n"
     ]
    }
   ],
   "source": [
    "#user input for\n",
    "name1=input(\"Enter Your First Name\")\n",
    "name2=input(\"Enter Your Last Name\")\n",
    "age=input(\"enter your age\")\n",
    "name=f\"{name1} {name2}\"\n",
    "print(\"Thank you \",name,\" Your age is:\",age) "
   ]
  },
  {
   "cell_type": "code",
   "execution_count": 47,
   "metadata": {},
   "outputs": [
    {
     "name": "stdout",
     "output_type": "stream",
     "text": [
      "15 5 5.0 1 2\n"
     ]
    }
   ],
   "source": [
    "#calculation \n",
    "x=10 ; y=5 ;z=2\n",
    "sum =x+y\n",
    "sub =x-y\n",
    "div =x/z\n",
    "rem=x%3\n",
    "diV=round(5/3)\n",
    "print(sum,sub,div,rem,diV)\n"
   ]
  },
  {
   "cell_type": "code",
   "execution_count": 49,
   "metadata": {},
   "outputs": [
    {
     "name": "stdout",
     "output_type": "stream",
     "text": [
      "True\n"
     ]
    }
   ],
   "source": [
    "#Contional operation\n",
    "\n",
    "x=10 ; y=3\n",
    "greater =x>y\n",
    "less =x<y\n",
    "not_equal= x!=y\n",
    "\n",
    "print(greater)"
   ]
  },
  {
   "cell_type": "code",
   "execution_count": 50,
   "metadata": {},
   "outputs": [
    {
     "name": "stdout",
     "output_type": "stream",
     "text": [
      "False\n"
     ]
    }
   ],
   "source": [
    "#Logical\n",
    "z= (x<y) and (x!=y)\n",
    "print(z)"
   ]
  },
  {
   "cell_type": "code",
   "execution_count": 55,
   "metadata": {},
   "outputs": [
    {
     "name": "stdout",
     "output_type": "stream",
     "text": [
      "Enter Number zihad\n"
     ]
    },
    {
     "name": "stdout",
     "output_type": "stream",
     "text": [
      "['zihad']\n"
     ]
    }
   ],
   "source": [
    "inp=(input(\"Enter Number\"))\n",
    "number=inp.split()\n",
    "print(number)\n"
   ]
  },
  {
   "cell_type": "code",
   "execution_count": 56,
   "metadata": {},
   "outputs": [
    {
     "name": "stdout",
     "output_type": "stream",
     "text": [
      "Will Go to tour\n"
     ]
    }
   ],
   "source": [
    "taka=1000\n",
    "raining=False\n",
    "if (taka>500) and (raining==False) or():\n",
    "    print(\"Will Go to tour\")\n",
    "else:\n",
    "    (\"Save money\")"
   ]
  },
  {
   "cell_type": "code",
   "execution_count": 57,
   "metadata": {},
   "outputs": [
    {
     "name": "stdout",
     "output_type": "stream",
     "text": [
      "0 0\n",
      "0 1\n",
      "0 2\n",
      "0 3\n",
      "0 4\n",
      "1 0\n",
      "1 1\n",
      "1 2\n",
      "1 3\n",
      "1 4\n",
      "2 0\n",
      "2 1\n",
      "2 2\n",
      "2 3\n",
      "2 4\n",
      "3 0\n",
      "3 1\n",
      "3 2\n",
      "3 3\n",
      "3 4\n",
      "4 0\n",
      "4 1\n",
      "4 2\n",
      "4 3\n",
      "4 4\n"
     ]
    }
   ],
   "source": [
    "for i in range(5):\n",
    "    for j in range(5):\n",
    "        print(i,j)\n",
    "        "
   ]
  },
  {
   "cell_type": "code",
   "execution_count": 60,
   "metadata": {},
   "outputs": [
    {
     "name": "stdout",
     "output_type": "stream",
     "text": [
      "0 Hello\n",
      "1 Hello\n",
      "2 Hello\n",
      "3 Hello\n",
      "4 Hello\n",
      "5 Hello\n",
      "6 Hello\n",
      "7 Hello\n",
      "8 Hello\n",
      "9 Hello\n",
      "10\n"
     ]
    }
   ],
   "source": [
    "count =0\n",
    "while count <10:\n",
    "    print(count,\"Hello\")\n",
    "    count= count+1\n",
    "print(count)"
   ]
  },
  {
   "cell_type": "code",
   "execution_count": 62,
   "metadata": {},
   "outputs": [
    {
     "name": "stdout",
     "output_type": "stream",
     "text": [
      "1 processing\n",
      "1 is added to the sum\n",
      "2 processing\n",
      "3 processing\n",
      "3 is added to the sum\n",
      "4 processing\n",
      "5 processing\n",
      "5 is added to the sum\n",
      "6 processing\n",
      "7 processing\n",
      "7 is added to the sum\n",
      "8 processing\n",
      "9 processing\n",
      "9 is added to the sum\n",
      "25\n"
     ]
    }
   ],
   "source": [
    "sum=0\n",
    "for i in range(1,10):\n",
    "    print(i,\"processing\")\n",
    "    if i%2==0:\n",
    "        continue\n",
    "    sum+=i\n",
    "    print(i,\"is added to the sum\")\n",
    "print(sum)"
   ]
  },
  {
   "cell_type": "code",
   "execution_count": null,
   "metadata": {},
   "outputs": [],
   "source": [
    "accuracy=95\n",
    "prev=6\n",
    "change_or_not=True\n",
    "while True:\n",
    "    if change_or_not== False and accuracy==100:\n",
    "       break\n",
    "    if(prev>accuracy):\n",
    "        change_or_not=False"
   ]
  },
  {
   "cell_type": "markdown",
   "metadata": {},
   "source": [
    "##Max and Minimum"
   ]
  },
  {
   "cell_type": "code",
   "execution_count": null,
   "metadata": {},
   "outputs": [],
   "source": [
    "inp=input()\n",
    "number=inp.split()\n",
    "\n",
    "x=int(number[0])\n",
    "y=int(number[1])\n",
    "z=int(number[2])\n",
    "print(x,y,z)\n"
   ]
  },
  {
   "cell_type": "code",
   "execution_count": null,
   "metadata": {},
   "outputs": [],
   "source": []
  },
  {
   "cell_type": "code",
   "execution_count": null,
   "metadata": {},
   "outputs": [],
   "source": []
  }
 ],
 "metadata": {
  "kernelspec": {
   "display_name": "Python [conda env:base] *",
   "language": "python",
   "name": "conda-base-py"
  },
  "language_info": {
   "codemirror_mode": {
    "name": "ipython",
    "version": 3
   },
   "file_extension": ".py",
   "mimetype": "text/x-python",
   "name": "python",
   "nbconvert_exporter": "python",
   "pygments_lexer": "ipython3",
   "version": "3.13.5"
  }
 },
 "nbformat": 4,
 "nbformat_minor": 4
}
